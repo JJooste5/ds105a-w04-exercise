{
 "cells": [
  {
   "cell_type": "markdown",
   "metadata": {},
   "source": [
    "# **What is an API?**\n",
    "\n",
    "An **API** allows two system to talk to each other. \n",
    "\n",
    "It’s like a waiter in a restaurant: you tell the waiter what you want (the request), they bring your order to the kitchen, and then bring back your food (the response).\n",
    "\n",
    "APIs are useful when you need to get data or send data between different systems. For example:\n",
    "\n",
    "- Might use a weather API to get the current weather.\n",
    "- A stock trading app might use a financial API to get stock prices.\n",
    "- A travel app might use a flight API to find flight schedules.\n",
    "\n",
    "APIs usually work over the internet, sending requests and getting responses, often in JSON format."
   ]
  },
  {
   "cell_type": "code",
   "execution_count": null,
   "metadata": {},
   "outputs": [],
   "source": [
    "import requests\n",
    "\n",
    "url = \"https://api.open-meteo.com/v1/forecast?latitude=52.52&longitude=13.41&hourly=temperature_2m\"\n",
    "\n",
    "response = requests.get(url)\n",
    "\n",
    "# Check if the request was successful (status code 200)\n",
    "if response.status_code == 200:\n",
    "    data = response.json()\n",
    "    \n",
    "    print(\"Data retrieved from the API:\")\n",
    "    print(data)\n",
    "else:\n",
    "    print(f\"Failed to retrieve data. Status code: {response.status_code}\")\n"
   ]
  }
 ],
 "metadata": {
  "language_info": {
   "name": "python"
  }
 },
 "nbformat": 4,
 "nbformat_minor": 2
}
