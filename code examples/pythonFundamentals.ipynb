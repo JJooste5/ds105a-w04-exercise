{
 "cells": [
  {
   "cell_type": "markdown",
   "metadata": {},
   "source": [
    "# **Fundamental Programming Concepts**\n",
    "\n",
    "This notebook will explain some of the essential programming concepts I have learnt about in the first few weeks of DS105. \n",
    "\n",
    "---\n",
    "\n",
    "## **What actually is coding?**\n",
    "\n",
    "Coding is essentially the act of giving a computer a set of instructions to perform specific tasks. \n",
    "\n",
    "Computers are not smart on their own — they need very explicit instructions. Every step must be clearly defined, or the computer won't understand what to do.\n",
    "\n",
    "When you code, you're providing detailed directions to the computer to solve problems, automate tasks, or process data. \n",
    "\n",
    "You must be extremely clear because computers don’t assume or infer anything on their own.\n"
   ]
  },
  {
   "cell_type": "markdown",
   "metadata": {},
   "source": [
    "### **Variables**\n",
    "\n",
    "Variables are basically objects for storing data values. \n",
    "\n",
    "They are just parts of computer memory that we tell the computer to store a bit of data in, that we give a name.\n",
    "\n",
    "**Example 1**: Basic variable assignment"
   ]
  },
  {
   "cell_type": "code",
   "execution_count": null,
   "metadata": {},
   "outputs": [],
   "source": [
    "age = 25\n",
    "name = \"Alice\""
   ]
  },
  {
   "cell_type": "markdown",
   "metadata": {},
   "source": [
    "Here, we are storing the value 25 in the variable we call age and the name \"Alice\" in the variable we call name.\n",
    "\n",
    "**Example 2**: Using variables in calculations"
   ]
  },
  {
   "cell_type": "code",
   "execution_count": null,
   "metadata": {},
   "outputs": [],
   "source": [
    "length = 5\n",
    "width = 10\n",
    "area = length * width\n",
    "print(area)"
   ]
  },
  {
   "cell_type": "markdown",
   "metadata": {},
   "source": [
    "In this case, the variables length and width hold values that we use to calculate the area of a rectangle."
   ]
  },
  {
   "cell_type": "markdown",
   "metadata": {},
   "source": [
    "## **print() Function**\n",
    "\n",
    "The print() function is used to display output to the screen. \n",
    "\n",
    "It presents the data (it can understant) between the two () on the screen.\n",
    "\n",
    "**Example 1: Printing a string**"
   ]
  },
  {
   "cell_type": "code",
   "execution_count": null,
   "metadata": {},
   "outputs": [],
   "source": [
    "print(\"Hello, World!\")"
   ]
  },
  {
   "cell_type": "markdown",
   "metadata": {},
   "source": [
    "**Example 2: printing a variable**"
   ]
  },
  {
   "cell_type": "code",
   "execution_count": null,
   "metadata": {},
   "outputs": [],
   "source": [
    "print(area)"
   ]
  },
  {
   "cell_type": "markdown",
   "metadata": {},
   "source": [
    "## Operators\n",
    "\n",
    "Operators are used to perform actions on data, like adding numbers or comparing values. \n",
    "\n",
    "The most common ones include arithmetic (+, -, *, /) and logical operators (==, !=, >= etc.).\n",
    "\n",
    "They can even work between two strings, e.g. you can use + to combine two strings as we will see in example 2.\n",
    "\n",
    "**Example 1: Adding two numbers together**"
   ]
  },
  {
   "cell_type": "code",
   "execution_count": null,
   "metadata": {},
   "outputs": [],
   "source": [
    "sumOfTwoNumbers = 1+1\n",
    "print(sumOfTwoNumbers)"
   ]
  },
  {
   "cell_type": "markdown",
   "metadata": {},
   "source": [
    "**Example 2: Adding two strings together**"
   ]
  },
  {
   "cell_type": "code",
   "execution_count": null,
   "metadata": {},
   "outputs": [],
   "source": [
    "sumOfTwoStrings = \"1\"+\"1\"\n",
    "print(sumOfTwoStrings)"
   ]
  },
  {
   "cell_type": "markdown",
   "metadata": {},
   "source": [
    "But, as strings are not numbers it just returns 11, not 2. More on strings in data types.\n",
    "\n",
    "## **If statements**\n",
    "\n",
    "An if statement will run a piece of code if a statement is true.\n",
    "\n",
    "**Example 1:**"
   ]
  },
  {
   "cell_type": "code",
   "execution_count": null,
   "metadata": {},
   "outputs": [],
   "source": [
    "x = 10\n",
    "if x > 5:\n",
    "    print(\"x is greater than 5\")\n",
    "if x < 5:\n",
    "    print(\"x is smaller than 5\")"
   ]
  },
  {
   "cell_type": "markdown",
   "metadata": {},
   "source": [
    "This outputs x is greater than 5, because only the first print statement runs.\n",
    "\n",
    "This is because only the statement \"x > 5\" is true.\n",
    "\n",
    "**Example 2:**"
   ]
  },
  {
   "cell_type": "code",
   "execution_count": null,
   "metadata": {},
   "outputs": [],
   "source": [
    "inputtedPassword = \"12345\"\n",
    "actualPassword = \"112321\"\n",
    "\n",
    "if inputtedPassword == actualPassword:\n",
    "    print(\"welcome\")\n",
    "else:\n",
    "    print(\"wrong password\")"
   ]
  },
  {
   "cell_type": "markdown",
   "metadata": {},
   "source": [
    "This outputs wrong password because the statement \"inputtedPassword == actualPassword\" is false. Note two brackets is a logical operator, not assigninf inputted password to actualPassword."
   ]
  }
 ],
 "metadata": {
  "language_info": {
   "name": "python"
  }
 },
 "nbformat": 4,
 "nbformat_minor": 2
}
