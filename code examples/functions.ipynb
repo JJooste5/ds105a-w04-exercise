{
 "cells": [
  {
   "cell_type": "markdown",
   "metadata": {},
   "source": [
    "# Functions in Programming\n",
    "\n",
    "## What is a Function?\n",
    "\n",
    "A function is a bit of code that you can call. It will only run when you call it.\n",
    "\n",
    "Functions take inputs (known as *arguments* or *parameters*), perform some operations, and can return a result.\n",
    "\n",
    "I think of them like a freelance accountant. They need to be told everything as parameters, they can't access stuff your data, and they perform the same task everytime, do your accounts. Same thing with functions: they can't access variables not within the function.\n",
    "\n",
    "Functions help you avoid repeating code by allowing you to \"call\" the same block of code whenever needed, rather than writing it multiple times.\n"
   ]
  },
  {
   "cell_type": "code",
   "execution_count": null,
   "metadata": {},
   "outputs": [],
   "source": [
    "def greet_person(name):\n",
    "    print(f\"Hello, {name}!\")\n",
    "\n",
    "greet_person(\"Alice\")\n",
    "greet_person(\"Bob\")\n",
    "greet_person(\"Charlie\")"
   ]
  },
  {
   "cell_type": "code",
   "execution_count": null,
   "metadata": {},
   "outputs": [],
   "source": [
    "def add_numbers(a, b):\n",
    "    return a + b\n",
    "\n",
    "result = add_numbers(3, 7)\n",
    "print(result)\n",
    "\n",
    "result = add_numbers(5, 2)\n",
    "print(result)"
   ]
  }
 ],
 "metadata": {
  "language_info": {
   "name": "python"
  }
 },
 "nbformat": 4,
 "nbformat_minor": 2
}
