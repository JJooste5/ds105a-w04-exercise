{
 "cells": [
  {
   "cell_type": "markdown",
   "metadata": {},
   "source": [
    "# **Terminal commands + file directories**\n"
   ]
  },
  {
   "cell_type": "markdown",
   "metadata": {},
   "source": [
    "This Jupyter notebook explains what I have learnt about terminal commands and file directories so far."
   ]
  },
  {
   "cell_type": "markdown",
   "metadata": {},
   "source": [
    "---\n",
    "\n",
    "# **File paths**\n",
    "\n",
    "File paths are a way of describing where a file is stored in memory.\n",
    "\n",
    "For example:\n",
    "\"*Users/joshuajooste/Documents*\" is the path to the Documents folder on my personal laptop.\n",
    "\n",
    "### **Why do we need relative paths?**\n",
    "\n",
    "But, the thing is, file paths are different on different computers.\n",
    "\n",
    "If two people are running the same app, and that app tries to retrieve information from the same absolute file path, it will fail.\n",
    "\n",
    "In this case, likely because their user's folder isn't called joshuajooste for obvious reasons.\n",
    "\n",
    "This is why we need relative paths.\n",
    "\n",
    "### **What are relative paths?**\n",
    "\n",
    "A relative file path describes the position of a file relative to the location of that file or where you are in the terminal.\n",
    "\n",
    "The use of a single dot \".\" refers to the folder the file is located in.\n",
    "\n",
    "The use of a double dot \"..\" refers to the parent of the folder the file is lcoated in.\n",
    "\n",
    "Back to our example from earlier:\n",
    "If we were trying to access data within another file called \"data.csv\" in our documents folder, we could simply say \"*./data.csv*\" instead of \"*Users/joshuajooste/Documents*\".\n",
    "\n",
    "As we're not explicitly stating the absolute file path, just describing how to get to the file from the sample.py this is cool.\n",
    "\n"
   ]
  },
  {
   "cell_type": "markdown",
   "metadata": {},
   "source": [
    "---\n",
    "\n",
    "# **Terminal commands**\n",
    "\n",
    "### **ls - Listing Files**\n",
    "\n",
    "The ls command lists all files and directories in the current directory. \n",
    "\n",
    "It’s essentially a way of seeing \"what’s here\" at any point while you’re navigating the terminal.\n",
    "\n",
    "For example, if you’re in your Documents folder and type ls, it will display all the files and subdirectories within that folder.\n",
    "\n",
    "### **pwd - Print Working Directory**\n",
    "\n",
    "The pwd command prints the full path of your current working directory. It is a way to find out \"where am I?\" in the file system.\n",
    "\n",
    "For example:\n",
    "pwd\n",
    "/Users/joshuajooste/Documents\n",
    "This tells you that you are currently inside the \"Documents\" folder.\n",
    "\n",
    "### **cd - Change Directory**\n",
    "\n",
    "The cd command allows you to move between different directories in the terminal. \n",
    "\n",
    "It’s how you \"navigate\" the file system.\n",
    "\n",
    "For instance, if you want to go from the \"Documents\" folder to the parent \"joshuajooste\":\n",
    "\n",
    "You would use the command \"cd ..\".\n",
    "\n",
    "### **mkdir - Make Directory**\n",
    "\n",
    "The mkdir command creates a new directory. \n",
    "\n",
    "If you want to create a new folder called \"Projects\" in your current directory, you’d use:\n",
    "\n",
    "\"mkdir Projects\"\n",
    "\n",
    "Now if you list your files again using ls, you’ll see the new \"Projects\" folder.\n",
    "\n",
    "### **curl - Data Transfer Tool**\n",
    "The curl command is used to transfer data to or from a server. It supports multiple protocols, but it’s most commonly used to download files or perform API requests.\n",
    "\n",
    "For example, to download a file from the web:\n",
    "\n",
    "\"curl -O http://example.com/file.txt\"\n",
    "\n",
    "### **pip - Python Package Installer**\n",
    "The pip command is a package installer for Python. \n",
    "\n",
    "It’s used to install libraries and packages for Python projects. \n",
    "\n",
    "For example, to install a library like requests, you would use:\n",
    "\n",
    "\"pip install requests\"\n",
    "\n",
    "This will download and install the requests package, which you can then use in your Python scripts."
   ]
  }
 ],
 "metadata": {
  "language_info": {
   "name": "python"
  }
 },
 "nbformat": 4,
 "nbformat_minor": 2
}
