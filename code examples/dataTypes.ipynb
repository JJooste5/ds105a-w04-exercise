{
 "cells": [
  {
   "cell_type": "markdown",
   "metadata": {},
   "source": [
    "# **Data Types**\n",
    "\n",
    "These are some common data types: `bool`, `string`, `integer`, `float`, `list`, and `dictionary`.\n",
    "\n",
    "---\n",
    "\n",
    "## Boolean (`bool`)\n",
    "\n",
    "A Boolean value (`bool`) is has two possible values `True` or `False`. \n",
    "\n",
    "**Example: Boolean values**\n"
   ]
  },
  {
   "cell_type": "code",
   "execution_count": null,
   "metadata": {},
   "outputs": [],
   "source": [
    "is_sunny = True\n",
    "is_raining = False\n",
    "print(is_sunny)  # Outputs: True\n",
    "print(is_raining)  # Outputs: False"
   ]
  },
  {
   "cell_type": "markdown",
   "metadata": {},
   "source": [
    "## **String (str)**\n",
    "\n",
    "A string is text. It is called a string because it is a 'string' of characters. Strings can contain letters, numbers, symbols, or spaces."
   ]
  },
  {
   "cell_type": "markdown",
   "metadata": {},
   "source": [
    "**Example:**"
   ]
  },
  {
   "cell_type": "code",
   "execution_count": null,
   "metadata": {},
   "outputs": [],
   "source": [
    "name = \"Joshua\"\n",
    "\n",
    "print(name)"
   ]
  },
  {
   "cell_type": "markdown",
   "metadata": {},
   "source": [
    "## **Integer (int)**\n",
    "\n",
    "An integer (int) is a whole number, positive or negative, without a decimal point.\n"
   ]
  },
  {
   "cell_type": "code",
   "execution_count": null,
   "metadata": {},
   "outputs": [],
   "source": [
    "integer = 10\n",
    "print(integer)\n",
    "\n",
    "nonInteger = \"10\" #this is actually a string\n",
    "print(nonInteger)"
   ]
  },
  {
   "cell_type": "markdown",
   "metadata": {},
   "source": [
    "## **Float (float)**\n",
    "\n",
    "A float (float) is a number that has a decimal point or is in exponential form.\n",
    "\n",
    "**Example: Float**"
   ]
  },
  {
   "cell_type": "code",
   "execution_count": null,
   "metadata": {},
   "outputs": [],
   "source": [
    "temperature = 23.7\n",
    "height = 1.75"
   ]
  },
  {
   "cell_type": "markdown",
   "metadata": {},
   "source": [
    "## **List (list)**\n",
    "\n",
    "A list is a collection of items, which can be of any data type. Lists are ordered and mutable, meaning their elements can be changed.\n",
    "\n",
    "**Example: List**"
   ]
  },
  {
   "cell_type": "code",
   "execution_count": null,
   "metadata": {},
   "outputs": [],
   "source": [
    "fruits = ['apple', 'banana', 'cherry']\n",
    "numbers = [1, 2, 3, 4, 5]"
   ]
  },
  {
   "cell_type": "markdown",
   "metadata": {},
   "source": [
    "## **Dictionary (dict)**\n",
    "\n",
    "A dictionary is a collection of key-value pairs. Each key is associated with a value, and the keys must be unique.\n",
    "\n",
    "**Example: Dictionary**"
   ]
  },
  {
   "cell_type": "code",
   "execution_count": null,
   "metadata": {},
   "outputs": [],
   "source": [
    "person = {\n",
    "    'name': 'Alice',\n",
    "    'age': 25,\n",
    "    'city': 'London'\n",
    "}"
   ]
  }
 ],
 "metadata": {
  "language_info": {
   "name": "python"
  }
 },
 "nbformat": 4,
 "nbformat_minor": 2
}
