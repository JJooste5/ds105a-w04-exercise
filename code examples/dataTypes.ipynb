{
 "cells": [
  {
   "cell_type": "markdown",
   "metadata": {},
   "source": [
    "# **Data Types**\n",
    "\n",
    "These are some common data types: `bool`, `string`, `integer`, `float`, `list`, and `dictionary`.\n",
    "\n",
    "---\n",
    "\n",
    "## Boolean (`bool`)\n",
    "\n",
    "A Boolean value (`bool`) is has two possible values `True` or `False`. \n",
    "\n",
    "**Example: Boolean values**\n"
   ]
  },
  {
   "cell_type": "code",
   "execution_count": null,
   "metadata": {},
   "outputs": [],
   "source": [
    "is_sunny = True\n",
    "is_raining = False\n",
    "print(is_sunny)  # Outputs: True\n",
    "print(is_raining)  # Outputs: False"
   ]
  },
  {
   "cell_type": "markdown",
   "metadata": {},
   "source": [
    "## **String (str)**\n",
    "\n",
    "A string is text. It is called a string because it is a 'string' of characters. Strings can contain letters, numbers, symbols, or spaces."
   ]
  },
  {
   "cell_type": "markdown",
   "metadata": {},
   "source": [
    "**Example:**"
   ]
  },
  {
   "cell_type": "code",
   "execution_count": null,
   "metadata": {},
   "outputs": [],
   "source": [
    "name = \"Joshua\"\n",
    "\n",
    "print(name)"
   ]
  },
  {
   "cell_type": "markdown",
   "metadata": {},
   "source": [
    "## **Integer (int)**\n",
    "\n",
    "An integer (int) is a whole number, positive or negative, without a decimal point.\n"
   ]
  }
 ],
 "metadata": {
  "language_info": {
   "name": "python"
  }
 },
 "nbformat": 4,
 "nbformat_minor": 2
}
